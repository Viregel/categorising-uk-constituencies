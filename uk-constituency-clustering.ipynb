{
 "cells": [
  {
   "cell_type": "code",
   "execution_count": null,
   "metadata": {},
   "outputs": [],
   "source": [
    "import numpy as np\n",
    "import matplotlib.pyplot as plt\n",
    "import pandas as pd"
   ]
  },
  {
   "cell_type": "code",
   "execution_count": null,
   "metadata": {},
   "outputs": [
    {
     "data": {
      "text/html": [
       "<div>\n",
       "<style scoped>\n",
       "    .dataframe tbody tr th:only-of-type {\n",
       "        vertical-align: middle;\n",
       "    }\n",
       "\n",
       "    .dataframe tbody tr th {\n",
       "        vertical-align: top;\n",
       "    }\n",
       "\n",
       "    .dataframe thead th {\n",
       "        text-align: right;\n",
       "    }\n",
       "</style>\n",
       "<table border=\"1\" class=\"dataframe\">\n",
       "  <thead>\n",
       "    <tr style=\"text-align: right;\">\n",
       "      <th></th>\n",
       "      <th>constituency_name</th>\n",
       "      <th>region_name</th>\n",
       "      <th>electorate</th>\n",
       "      <th>valid_votes</th>\n",
       "      <th>turnout</th>\n",
       "      <th>con</th>\n",
       "      <th>lab</th>\n",
       "      <th>ld</th>\n",
       "      <th>brexit</th>\n",
       "      <th>green</th>\n",
       "      <th>...</th>\n",
       "      <th>uup</th>\n",
       "      <th>alliance</th>\n",
       "      <th>other</th>\n",
       "      <th>other_winner</th>\n",
       "      <th>18-24</th>\n",
       "      <th>25-34</th>\n",
       "      <th>35-44</th>\n",
       "      <th>45-54</th>\n",
       "      <th>55-64</th>\n",
       "      <th>65+</th>\n",
       "    </tr>\n",
       "  </thead>\n",
       "  <tbody>\n",
       "    <tr>\n",
       "      <th>0</th>\n",
       "      <td>Aberavon</td>\n",
       "      <td>Wales</td>\n",
       "      <td>50750</td>\n",
       "      <td>31598</td>\n",
       "      <td>0.622621</td>\n",
       "      <td>0.206279</td>\n",
       "      <td>0.538262</td>\n",
       "      <td>0.033926</td>\n",
       "      <td>0.098361</td>\n",
       "      <td>0.014241</td>\n",
       "      <td>...</td>\n",
       "      <td>0.0</td>\n",
       "      <td>0.0</td>\n",
       "      <td>0.023134</td>\n",
       "      <td>0.0</td>\n",
       "      <td>0.109197</td>\n",
       "      <td>0.160235</td>\n",
       "      <td>0.157987</td>\n",
       "      <td>0.159947</td>\n",
       "      <td>0.168921</td>\n",
       "      <td>0.243715</td>\n",
       "    </tr>\n",
       "    <tr>\n",
       "      <th>1</th>\n",
       "      <td>Aberconwy</td>\n",
       "      <td>Wales</td>\n",
       "      <td>44699</td>\n",
       "      <td>31865</td>\n",
       "      <td>0.712879</td>\n",
       "      <td>0.460913</td>\n",
       "      <td>0.397081</td>\n",
       "      <td>0.057147</td>\n",
       "      <td>0.000000</td>\n",
       "      <td>0.000000</td>\n",
       "      <td>...</td>\n",
       "      <td>0.0</td>\n",
       "      <td>0.0</td>\n",
       "      <td>0.000000</td>\n",
       "      <td>0.0</td>\n",
       "      <td>0.080732</td>\n",
       "      <td>0.122583</td>\n",
       "      <td>0.119593</td>\n",
       "      <td>0.161403</td>\n",
       "      <td>0.183528</td>\n",
       "      <td>0.332161</td>\n",
       "    </tr>\n",
       "    <tr>\n",
       "      <th>2</th>\n",
       "      <td>Aberdeen North</td>\n",
       "      <td>Scotland</td>\n",
       "      <td>62489</td>\n",
       "      <td>37413</td>\n",
       "      <td>0.598713</td>\n",
       "      <td>0.201401</td>\n",
       "      <td>0.132013</td>\n",
       "      <td>0.076070</td>\n",
       "      <td>0.026943</td>\n",
       "      <td>0.023521</td>\n",
       "      <td>...</td>\n",
       "      <td>0.0</td>\n",
       "      <td>0.0</td>\n",
       "      <td>0.000000</td>\n",
       "      <td>0.0</td>\n",
       "      <td>0.175505</td>\n",
       "      <td>0.256129</td>\n",
       "      <td>0.190318</td>\n",
       "      <td>0.155881</td>\n",
       "      <td>0.142640</td>\n",
       "      <td>0.079526</td>\n",
       "    </tr>\n",
       "    <tr>\n",
       "      <th>3</th>\n",
       "      <td>Aberdeen South</td>\n",
       "      <td>Scotland</td>\n",
       "      <td>65719</td>\n",
       "      <td>45638</td>\n",
       "      <td>0.694441</td>\n",
       "      <td>0.359306</td>\n",
       "      <td>0.084009</td>\n",
       "      <td>0.109952</td>\n",
       "      <td>0.000000</td>\n",
       "      <td>0.000000</td>\n",
       "      <td>...</td>\n",
       "      <td>0.0</td>\n",
       "      <td>0.0</td>\n",
       "      <td>0.000000</td>\n",
       "      <td>0.0</td>\n",
       "      <td>0.093194</td>\n",
       "      <td>0.248264</td>\n",
       "      <td>0.221135</td>\n",
       "      <td>0.177006</td>\n",
       "      <td>0.172687</td>\n",
       "      <td>0.087714</td>\n",
       "    </tr>\n",
       "    <tr>\n",
       "      <th>4</th>\n",
       "      <td>Airdrie and Shotts</td>\n",
       "      <td>Scotland</td>\n",
       "      <td>64011</td>\n",
       "      <td>39772</td>\n",
       "      <td>0.621331</td>\n",
       "      <td>0.176280</td>\n",
       "      <td>0.320024</td>\n",
       "      <td>0.035678</td>\n",
       "      <td>0.000000</td>\n",
       "      <td>0.017223</td>\n",
       "      <td>...</td>\n",
       "      <td>0.0</td>\n",
       "      <td>0.0</td>\n",
       "      <td>0.000000</td>\n",
       "      <td>0.0</td>\n",
       "      <td>0.115947</td>\n",
       "      <td>0.182063</td>\n",
       "      <td>0.187704</td>\n",
       "      <td>0.205865</td>\n",
       "      <td>0.202400</td>\n",
       "      <td>0.106021</td>\n",
       "    </tr>\n",
       "  </tbody>\n",
       "</table>\n",
       "<p>5 rows × 25 columns</p>\n",
       "</div>"
      ],
      "text/plain": [
       "    constituency_name region_name  electorate  valid_votes   turnout  \\\n",
       "0            Aberavon       Wales       50750        31598  0.622621   \n",
       "1           Aberconwy       Wales       44699        31865  0.712879   \n",
       "2      Aberdeen North    Scotland       62489        37413  0.598713   \n",
       "3      Aberdeen South    Scotland       65719        45638  0.694441   \n",
       "4  Airdrie and Shotts    Scotland       64011        39772  0.621331   \n",
       "\n",
       "        con       lab        ld    brexit     green  ...  uup  alliance  \\\n",
       "0  0.206279  0.538262  0.033926  0.098361  0.014241  ...  0.0       0.0   \n",
       "1  0.460913  0.397081  0.057147  0.000000  0.000000  ...  0.0       0.0   \n",
       "2  0.201401  0.132013  0.076070  0.026943  0.023521  ...  0.0       0.0   \n",
       "3  0.359306  0.084009  0.109952  0.000000  0.000000  ...  0.0       0.0   \n",
       "4  0.176280  0.320024  0.035678  0.000000  0.017223  ...  0.0       0.0   \n",
       "\n",
       "      other  other_winner     18-24     25-34     35-44     45-54     55-64  \\\n",
       "0  0.023134           0.0  0.109197  0.160235  0.157987  0.159947  0.168921   \n",
       "1  0.000000           0.0  0.080732  0.122583  0.119593  0.161403  0.183528   \n",
       "2  0.000000           0.0  0.175505  0.256129  0.190318  0.155881  0.142640   \n",
       "3  0.000000           0.0  0.093194  0.248264  0.221135  0.177006  0.172687   \n",
       "4  0.000000           0.0  0.115947  0.182063  0.187704  0.205865  0.202400   \n",
       "\n",
       "        65+  \n",
       "0  0.243715  \n",
       "1  0.332161  \n",
       "2  0.079526  \n",
       "3  0.087714  \n",
       "4  0.106021  \n",
       "\n",
       "[5 rows x 25 columns]"
      ]
     },
     "execution_count": 5,
     "metadata": {},
     "output_type": "execute_result"
    }
   ],
   "source": [
    "#Import datasets\n",
    "\n",
    "cols = [\"constituency_name\",\"region_name\",\"electorate\",\"valid_votes\",\"turnout\",\"con\",\"lab\",\"ld\",\"brexit\",\"green\",\"snp\",\"pc\",\"dup\",\"sf\",\"sdlp\",\"uup\",\"alliance\",\"other\",\"other_winner\",\"18-24\",\"25-34\",\"35-44\",\"45-54\",\"55-64\",\"65+\"]\n",
    "uk_data = pd.read_csv(\"percentage_data.data\", names = cols)\n",
    "\n",
    "uk_data.head()"
   ]
  },
  {
   "cell_type": "code",
   "execution_count": null,
   "metadata": {},
   "outputs": [],
   "source": [
    "#Transform data to catagorical\n",
    "from sklearn.preprocessing import LabelEncoder"
   ]
  },
  {
   "cell_type": "code",
   "execution_count": null,
   "metadata": {},
   "outputs": [],
   "source": [
    "le = LabelEncoder()\n",
    "\n",
    "uk_data[['constituency_name', 'region_name']] = uk_data[['constituency_name', 'region_name']].apply(LabelEncoder().fit_transform)\n"
   ]
  },
  {
   "cell_type": "code",
   "execution_count": null,
   "metadata": {},
   "outputs": [
    {
     "data": {
      "text/html": [
       "<div>\n",
       "<style scoped>\n",
       "    .dataframe tbody tr th:only-of-type {\n",
       "        vertical-align: middle;\n",
       "    }\n",
       "\n",
       "    .dataframe tbody tr th {\n",
       "        vertical-align: top;\n",
       "    }\n",
       "\n",
       "    .dataframe thead th {\n",
       "        text-align: right;\n",
       "    }\n",
       "</style>\n",
       "<table border=\"1\" class=\"dataframe\">\n",
       "  <thead>\n",
       "    <tr style=\"text-align: right;\">\n",
       "      <th></th>\n",
       "      <th>constituency_name</th>\n",
       "      <th>region_name</th>\n",
       "      <th>electorate</th>\n",
       "      <th>valid_votes</th>\n",
       "      <th>turnout</th>\n",
       "      <th>con</th>\n",
       "      <th>lab</th>\n",
       "      <th>ld</th>\n",
       "      <th>brexit</th>\n",
       "      <th>green</th>\n",
       "      <th>...</th>\n",
       "      <th>alliance</th>\n",
       "      <th>other</th>\n",
       "      <th>other_winner</th>\n",
       "      <th>18-24</th>\n",
       "      <th>25-34</th>\n",
       "      <th>35-44</th>\n",
       "      <th>45-54</th>\n",
       "      <th>55-64</th>\n",
       "      <th>65+</th>\n",
       "      <th>age_cat</th>\n",
       "    </tr>\n",
       "  </thead>\n",
       "  <tbody>\n",
       "    <tr>\n",
       "      <th>0</th>\n",
       "      <td>0</td>\n",
       "      <td>9</td>\n",
       "      <td>50750</td>\n",
       "      <td>31598</td>\n",
       "      <td>0.622621</td>\n",
       "      <td>0.206279</td>\n",
       "      <td>0.538262</td>\n",
       "      <td>0.033926</td>\n",
       "      <td>0.098361</td>\n",
       "      <td>0.014241</td>\n",
       "      <td>...</td>\n",
       "      <td>0.0</td>\n",
       "      <td>0.023134</td>\n",
       "      <td>0.0</td>\n",
       "      <td>0.109197</td>\n",
       "      <td>0.160235</td>\n",
       "      <td>0.157987</td>\n",
       "      <td>0.159947</td>\n",
       "      <td>0.168921</td>\n",
       "      <td>0.243715</td>\n",
       "      <td>3</td>\n",
       "    </tr>\n",
       "    <tr>\n",
       "      <th>1</th>\n",
       "      <td>1</td>\n",
       "      <td>9</td>\n",
       "      <td>44699</td>\n",
       "      <td>31865</td>\n",
       "      <td>0.712879</td>\n",
       "      <td>0.460913</td>\n",
       "      <td>0.397081</td>\n",
       "      <td>0.057147</td>\n",
       "      <td>0.000000</td>\n",
       "      <td>0.000000</td>\n",
       "      <td>...</td>\n",
       "      <td>0.0</td>\n",
       "      <td>0.000000</td>\n",
       "      <td>0.0</td>\n",
       "      <td>0.080732</td>\n",
       "      <td>0.122583</td>\n",
       "      <td>0.119593</td>\n",
       "      <td>0.161403</td>\n",
       "      <td>0.183528</td>\n",
       "      <td>0.332161</td>\n",
       "      <td>0</td>\n",
       "    </tr>\n",
       "    <tr>\n",
       "      <th>2</th>\n",
       "      <td>2</td>\n",
       "      <td>6</td>\n",
       "      <td>62489</td>\n",
       "      <td>37413</td>\n",
       "      <td>0.598713</td>\n",
       "      <td>0.201401</td>\n",
       "      <td>0.132013</td>\n",
       "      <td>0.076070</td>\n",
       "      <td>0.026943</td>\n",
       "      <td>0.023521</td>\n",
       "      <td>...</td>\n",
       "      <td>0.0</td>\n",
       "      <td>0.000000</td>\n",
       "      <td>0.0</td>\n",
       "      <td>0.175505</td>\n",
       "      <td>0.256129</td>\n",
       "      <td>0.190318</td>\n",
       "      <td>0.155881</td>\n",
       "      <td>0.142640</td>\n",
       "      <td>0.079526</td>\n",
       "      <td>4</td>\n",
       "    </tr>\n",
       "    <tr>\n",
       "      <th>3</th>\n",
       "      <td>3</td>\n",
       "      <td>6</td>\n",
       "      <td>65719</td>\n",
       "      <td>45638</td>\n",
       "      <td>0.694441</td>\n",
       "      <td>0.359306</td>\n",
       "      <td>0.084009</td>\n",
       "      <td>0.109952</td>\n",
       "      <td>0.000000</td>\n",
       "      <td>0.000000</td>\n",
       "      <td>...</td>\n",
       "      <td>0.0</td>\n",
       "      <td>0.000000</td>\n",
       "      <td>0.0</td>\n",
       "      <td>0.093194</td>\n",
       "      <td>0.248264</td>\n",
       "      <td>0.221135</td>\n",
       "      <td>0.177006</td>\n",
       "      <td>0.172687</td>\n",
       "      <td>0.087714</td>\n",
       "      <td>4</td>\n",
       "    </tr>\n",
       "    <tr>\n",
       "      <th>4</th>\n",
       "      <td>4</td>\n",
       "      <td>6</td>\n",
       "      <td>64011</td>\n",
       "      <td>39772</td>\n",
       "      <td>0.621331</td>\n",
       "      <td>0.176280</td>\n",
       "      <td>0.320024</td>\n",
       "      <td>0.035678</td>\n",
       "      <td>0.000000</td>\n",
       "      <td>0.017223</td>\n",
       "      <td>...</td>\n",
       "      <td>0.0</td>\n",
       "      <td>0.000000</td>\n",
       "      <td>0.0</td>\n",
       "      <td>0.115947</td>\n",
       "      <td>0.182063</td>\n",
       "      <td>0.187704</td>\n",
       "      <td>0.205865</td>\n",
       "      <td>0.202400</td>\n",
       "      <td>0.106021</td>\n",
       "      <td>1</td>\n",
       "    </tr>\n",
       "  </tbody>\n",
       "</table>\n",
       "<p>5 rows × 26 columns</p>\n",
       "</div>"
      ],
      "text/plain": [
       "   constituency_name  region_name  electorate  valid_votes   turnout  \\\n",
       "0                  0            9       50750        31598  0.622621   \n",
       "1                  1            9       44699        31865  0.712879   \n",
       "2                  2            6       62489        37413  0.598713   \n",
       "3                  3            6       65719        45638  0.694441   \n",
       "4                  4            6       64011        39772  0.621331   \n",
       "\n",
       "        con       lab        ld    brexit     green  ...  alliance     other  \\\n",
       "0  0.206279  0.538262  0.033926  0.098361  0.014241  ...       0.0  0.023134   \n",
       "1  0.460913  0.397081  0.057147  0.000000  0.000000  ...       0.0  0.000000   \n",
       "2  0.201401  0.132013  0.076070  0.026943  0.023521  ...       0.0  0.000000   \n",
       "3  0.359306  0.084009  0.109952  0.000000  0.000000  ...       0.0  0.000000   \n",
       "4  0.176280  0.320024  0.035678  0.000000  0.017223  ...       0.0  0.000000   \n",
       "\n",
       "   other_winner     18-24     25-34     35-44     45-54     55-64       65+  \\\n",
       "0           0.0  0.109197  0.160235  0.157987  0.159947  0.168921  0.243715   \n",
       "1           0.0  0.080732  0.122583  0.119593  0.161403  0.183528  0.332161   \n",
       "2           0.0  0.175505  0.256129  0.190318  0.155881  0.142640  0.079526   \n",
       "3           0.0  0.093194  0.248264  0.221135  0.177006  0.172687  0.087714   \n",
       "4           0.0  0.115947  0.182063  0.187704  0.205865  0.202400  0.106021   \n",
       "\n",
       "   age_cat  \n",
       "0        3  \n",
       "1        0  \n",
       "2        4  \n",
       "3        4  \n",
       "4        1  \n",
       "\n",
       "[5 rows x 26 columns]"
      ]
     },
     "execution_count": 21,
     "metadata": {},
     "output_type": "execute_result"
    }
   ],
   "source": [
    "uk_data.head()"
   ]
  },
  {
   "cell_type": "code",
   "execution_count": null,
   "metadata": {},
   "outputs": [],
   "source": [
    "#Try k-means clustering algorithm\n",
    "\n",
    "from sklearn.cluster import k_means"
   ]
  },
  {
   "cell_type": "code",
   "execution_count": null,
   "metadata": {},
   "outputs": [],
   "source": [
    "#Want to see correlations between all parties\n",
    "\n",
    "parties = [\"con\", \"lab\", \"ld\", \"brexit\", \"green\", \"snp\"]\n",
    "for party_1 in parties:\n",
    "    for party_2 in parties:\n",
    "        if party_1 != party_2:\n",
    "            party_data = uk_data[[party_1, party_2]].values\n",
    "            plt.scatter(\n",
    "                party_data[:, 0], party_data[:, 1],\n",
    "                c='white', marker='o',\n",
    "                edgecolor='black', s=50\n",
    "                )\n",
    "            #plt.xlabel(party_1)\n",
    "            #plt.ylabel(party_2)\n",
    "            plt.title(party_1 + \" vs \" + party_2)\n",
    "            plt.show()"
   ]
  },
  {
   "cell_type": "code",
   "execution_count": null,
   "metadata": {},
   "outputs": [],
   "source": [
    "from sklearn.cluster import KMeans\n",
    "\n",
    "party_data = uk_data[parties].values\n",
    "\n",
    "km = KMeans(\n",
    "    n_clusters=6, init='random',\n",
    "    n_init=10, max_iter=300, \n",
    "    tol=1e-04, random_state=0\n",
    ")\n",
    "y_km = km.fit_predict(party_data)"
   ]
  },
  {
   "cell_type": "code",
   "execution_count": null,
   "metadata": {},
   "outputs": [],
   "source": [
    "#Clustering using age bracket data\n",
    "\n",
    "ages = [\"18-24\", \"25-34\", \"35-44\", \"45-54\", \"55-64\", \"65+\"]\n",
    "age_data = uk_data[ages].values\n",
    "\n",
    "age_means = KMeans(\n",
    "    n_clusters=6, init='random',\n",
    "    n_init=10, max_iter=300, \n",
    "    tol=1e-04, random_state=0\n",
    ")\n",
    "y_age_means = age_means.fit_predict(age_data)\n"
   ]
  },
  {
   "cell_type": "code",
   "execution_count": null,
   "metadata": {},
   "outputs": [
    {
     "data": {
      "image/png": "[encoded data removed]",
      "text/plain": [
       "<Figure size 640x480 with 1 Axes>"
      ]
     },
     "metadata": {},
     "output_type": "display_data"
    }
   ],
   "source": [
    "#Find distortions\n",
    "distortions = []\n",
    "for i in range(1, 11):\n",
    "    km = KMeans(\n",
    "        n_clusters=i, init='random',\n",
    "        n_init=10, max_iter=300,\n",
    "        tol=1e-04, random_state=0\n",
    "    )\n",
    "    km.fit(age_data)\n",
    "    distortions.append(km.inertia_)\n",
    "\n",
    "\n",
    "plt.plot(range(1, 11), distortions, marker='o')\n",
    "plt.xlabel('Clusters')\n",
    "plt.ylabel('Distortion')\n",
    "plt.show()"
   ]
  },
  {
   "cell_type": "code",
   "execution_count": null,
   "metadata": {},
   "outputs": [
    {
     "data": {
      "image/png": "[encoded data removed]",
      "text/plain": [
       "<Figure size 640x480 with 1 Axes>"
      ]
     },
     "metadata": {},
     "output_type": "display_data"
    }
   ],
   "source": [
    "#Create age categories\n",
    "uk_data[\"age_cat\"] = y_age_means\n",
    "\n",
    "groups = uk_data.groupby('age_cat')\n",
    "for name, group in groups:\n",
    "    plt.plot(group[\"con\"], group[\"ld\"] + group[\"lab\"] + group[\"snp\"], marker='o', linestyle='', markersize=3, label=name)\n",
    "\n",
    "plt.title(\"Age data\")\n",
    "plt.legend()\n",
    "plt.show()\n"
   ]
  },
  {
   "cell_type": "code",
   "execution_count": null,
   "metadata": {},
   "outputs": [
    {
     "data": {
      "image/png": "[encoded data removed]",
      "text/plain": [
       "<Figure size 640x480 with 1 Axes>"
      ]
     },
     "metadata": {},
     "output_type": "display_data"
    }
   ],
   "source": [
    "#Try for parties\n",
    "#TODO: specify SNP/PC for Scotland/Wales only\n",
    "test_data = uk_data[[\"snp\", \"age_cat\"]].values\n",
    "\n",
    "plt.scatter(\n",
    "    test_data[:, 0], test_data[:, 1],\n",
    "    c='white', marker='o',\n",
    "    edgecolor='black', s=50)\n",
    "plt.title(\"Con vs Age\")\n",
    "plt.show()"
   ]
  },
  {
   "cell_type": "code",
   "execution_count": null,
   "metadata": {},
   "outputs": [
    {
     "data": {
      "image/png": "[encoded data removed]",
      "text/plain": [
       "<Figure size 640x480 with 1 Axes>"
      ]
     },
     "metadata": {},
     "output_type": "display_data"
    }
   ],
   "source": [
    "test_data = uk_data[[\"turnout\", \"age_cat\"]].values\n",
    "\n",
    "plt.scatter(\n",
    "    test_data[:, 0], test_data[:, 1],\n",
    "    c='white', marker='o',\n",
    "    edgecolor='black', s=50)\n",
    "plt.title(\"Turnout vs Age\")\n",
    "plt.show()\n"
   ]
  },
  {
   "cell_type": "code",
   "execution_count": null,
   "metadata": {},
   "outputs": [],
   "source": [
    "from sklearn.linear_model import LinearRegression\n",
    "import numpy as np\n"
   ]
  },
  {
   "cell_type": "code",
   "execution_count": null,
   "metadata": {},
   "outputs": [],
   "source": [
    "#TODO: Bit messy. Would rather make it clear which region is which\n",
    "eng_data = uk_data[uk_data.region_name != 5 | 6 | 9]"
   ]
  },
  {
   "cell_type": "code",
   "execution_count": null,
   "metadata": {},
   "outputs": [],
   "source": [
    "\n",
    "train, valid, test = np.split(eng_data.sample(frac=1), [int(0.6*len(eng_data)), int(0.8*len(eng_data))])\n"
   ]
  },
  {
   "cell_type": "code",
   "execution_count": null,
   "metadata": {},
   "outputs": [],
   "source": [
    "xlabels = [\"18-24\", \"25-34\", \"35-44\", \"45-54\", \"55-64\", \"65+\"]\n",
    "y_train = train[\"lab\"].values.reshape(-1,1)\n",
    "X_train = train[xlabels].values\n",
    "\n",
    "y_test = test[\"lab\"].values.reshape(-1,1)\n",
    "X_test = test[xlabels].values"
   ]
  },
  {
   "cell_type": "code",
   "execution_count": null,
   "metadata": {},
   "outputs": [
    {
     "data": {
      "text/html": [
       "<style>#sk-container-id-15 {color: black;background-color: white;}#sk-container-id-15 pre{padding: 0;}#sk-container-id-15 div.sk-toggleable {background-color: white;}#sk-container-id-15 label.sk-toggleable__label {cursor: pointer;display: block;width: 100%;margin-bottom: 0;padding: 0.3em;box-sizing: border-box;text-align: center;}#sk-container-id-15 label.sk-toggleable__label-arrow:before {content: \"▸\";float: left;margin-right: 0.25em;color: #696969;}#sk-container-id-15 label.sk-toggleable__label-arrow:hover:before {color: black;}#sk-container-id-15 div.sk-estimator:hover label.sk-toggleable__label-arrow:before {color: black;}#sk-container-id-15 div.sk-toggleable__content {max-height: 0;max-width: 0;overflow: hidden;text-align: left;background-color: #f0f8ff;}#sk-container-id-15 div.sk-toggleable__content pre {margin: 0.2em;color: black;border-radius: 0.25em;background-color: #f0f8ff;}#sk-container-id-15 input.sk-toggleable__control:checked~div.sk-toggleable__content {max-height: 200px;max-width: 100%;overflow: auto;}#sk-container-id-15 input.sk-toggleable__control:checked~label.sk-toggleable__label-arrow:before {content: \"▾\";}#sk-container-id-15 div.sk-estimator input.sk-toggleable__control:checked~label.sk-toggleable__label {background-color: #d4ebff;}#sk-container-id-15 div.sk-label input.sk-toggleable__control:checked~label.sk-toggleable__label {background-color: #d4ebff;}#sk-container-id-15 input.sk-hidden--visually {border: 0;clip: rect(1px 1px 1px 1px);clip: rect(1px, 1px, 1px, 1px);height: 1px;margin: -1px;overflow: hidden;padding: 0;position: absolute;width: 1px;}#sk-container-id-15 div.sk-estimator {font-family: monospace;background-color: #f0f8ff;border: 1px dotted black;border-radius: 0.25em;box-sizing: border-box;margin-bottom: 0.5em;}#sk-container-id-15 div.sk-estimator:hover {background-color: #d4ebff;}#sk-container-id-15 div.sk-parallel-item::after {content: \"\";width: 100%;border-bottom: 1px solid gray;flex-grow: 1;}#sk-container-id-15 div.sk-label:hover label.sk-toggleable__label {background-color: #d4ebff;}#sk-container-id-15 div.sk-serial::before {content: \"\";position: absolute;border-left: 1px solid gray;box-sizing: border-box;top: 0;bottom: 0;left: 50%;z-index: 0;}#sk-container-id-15 div.sk-serial {display: flex;flex-direction: column;align-items: center;background-color: white;padding-right: 0.2em;padding-left: 0.2em;position: relative;}#sk-container-id-15 div.sk-item {position: relative;z-index: 1;}#sk-container-id-15 div.sk-parallel {display: flex;align-items: stretch;justify-content: center;background-color: white;position: relative;}#sk-container-id-15 div.sk-item::before, #sk-container-id-15 div.sk-parallel-item::before {content: \"\";position: absolute;border-left: 1px solid gray;box-sizing: border-box;top: 0;bottom: 0;left: 50%;z-index: -1;}#sk-container-id-15 div.sk-parallel-item {display: flex;flex-direction: column;z-index: 1;position: relative;background-color: white;}#sk-container-id-15 div.sk-parallel-item:first-child::after {align-self: flex-end;width: 50%;}#sk-container-id-15 div.sk-parallel-item:last-child::after {align-self: flex-start;width: 50%;}#sk-container-id-15 div.sk-parallel-item:only-child::after {width: 0;}#sk-container-id-15 div.sk-dashed-wrapped {border: 1px dashed gray;margin: 0 0.4em 0.5em 0.4em;box-sizing: border-box;padding-bottom: 0.4em;background-color: white;}#sk-container-id-15 div.sk-label label {font-family: monospace;font-weight: bold;display: inline-block;line-height: 1.2em;}#sk-container-id-15 div.sk-label-container {text-align: center;}#sk-container-id-15 div.sk-container {/* jupyter's `normalize.less` sets `[hidden] { display: none; }` but bootstrap.min.css set `[hidden] { display: none !important; }` so we also need the `!important` here to be able to override the default hidden behavior on the sphinx rendered scikit-learn.org. See: https://github.com/scikit-learn/scikit-learn/issues/21755 */display: inline-block !important;position: relative;}#sk-container-id-15 div.sk-text-repr-fallback {display: none;}</style><div id=\"sk-container-id-15\" class=\"sk-top-container\"><div class=\"sk-text-repr-fallback\"><pre>LinearRegression()</pre><b>In a Jupyter environment, please rerun this cell to show the HTML representation or trust the notebook. <br />On GitHub, the HTML representation is unable to render, please try loading this page with nbviewer.org.</b></div><div class=\"sk-container\" hidden><div class=\"sk-item\"><div class=\"sk-estimator sk-toggleable\"><input class=\"sk-toggleable__control sk-hidden--visually\" id=\"sk-estimator-id-15\" type=\"checkbox\" checked><label for=\"sk-estimator-id-15\" class=\"sk-toggleable__label sk-toggleable__label-arrow\">LinearRegression</label><div class=\"sk-toggleable__content\"><pre>LinearRegression()</pre></div></div></div></div></div>"
      ],
      "text/plain": [
       "LinearRegression()"
      ]
     },
     "execution_count": 97,
     "metadata": {},
     "output_type": "execute_result"
    }
   ],
   "source": [
    "#Attempt to fit linear model to the Labour vote\n",
    "\n",
    "model_1 = LinearRegression()\n",
    "model_1.fit(X_train, y_train)"
   ]
  },
  {
   "cell_type": "code",
   "execution_count": null,
   "metadata": {},
   "outputs": [
    {
     "data": {
      "text/plain": [
       "0.4240321147079783"
      ]
     },
     "execution_count": 98,
     "metadata": {},
     "output_type": "execute_result"
    }
   ],
   "source": [
    "#Need to adjust parameters drastically - this is not a particularly good model\n",
    "model_1.score(X_test, y_test)"
   ]
  }
 ],
 "metadata": {
  "kernelspec": {
   "display_name": "Python 3",
   "language": "python",
   "name": "python3"
  },
  "language_info": {
   "codemirror_mode": {
    "name": "ipython",
    "version": 3
   },
   "file_extension": ".py",
   "mimetype": "text/x-python",
   "name": "python",
   "nbconvert_exporter": "python",
   "pygments_lexer": "ipython3",
   "version": "3.11.4"
  },
  "orig_nbformat": 4
 },
 "nbformat": 4,
 "nbformat_minor": 2
}
